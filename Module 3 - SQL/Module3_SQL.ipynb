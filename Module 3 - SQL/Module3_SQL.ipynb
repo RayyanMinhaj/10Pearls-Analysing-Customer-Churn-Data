{
 "cells": [
  {
   "cell_type": "markdown",
   "metadata": {},
   "source": [
    "![unnamed (1).png](../MISC/unnamed(1).png)"
   ]
  },
  {
   "cell_type": "markdown",
   "metadata": {},
   "source": [
    "# Analysing Customer Churn Data - Predicting Behavior to Retain Customers\n",
    "\n"
   ]
  },
  {
   "cell_type": "markdown",
   "metadata": {},
   "source": [
    "Rayyan Minhaj (Data Science Intern - 10Pearls)"
   ]
  },
  {
   "cell_type": "markdown",
   "metadata": {},
   "source": [
    "---"
   ]
  },
  {
   "cell_type": "markdown",
   "metadata": {},
   "source": [
    "## Module 3: Database Schema, SQL, and Queries\n",
    "Using SQL to create tables, perform data ingestion, call queries, and other various action items."
   ]
  },
  {
   "cell_type": "code",
   "execution_count": 20,
   "metadata": {},
   "outputs": [],
   "source": [
    "import psycopg2"
   ]
  },
  {
   "cell_type": "code",
   "execution_count": 23,
   "metadata": {},
   "outputs": [],
   "source": [
    "conn = psycopg2.connect(host=\"localhost\", dbname=\"10Pearls-Customer-Churn-Data\", user=\"postgres\", password=\"1234\", port=5432)\n",
    "cur = conn.cursor()"
   ]
  },
  {
   "cell_type": "markdown",
   "metadata": {},
   "source": [
    "## 1. Creating Schema & Tables "
   ]
  },
  {
   "cell_type": "code",
   "execution_count": 24,
   "metadata": {},
   "outputs": [],
   "source": [
    "cur.execute(\"\"\"\n",
    "    CREATE TABLE Customers (\n",
    "    customer_id VARCHAR(50) PRIMARY KEY,\n",
    "    gender VARCHAR(10),\n",
    "    senior_citizen BOOLEAN,\n",
    "    partner BOOLEAN,\n",
    "    dependents BOOLEAN\n",
    ");\n",
    "\n",
    "    CREATE TABLE Services (\n",
    "    customer_id VARCHAR(50),\n",
    "    phone_service BOOLEAN,\n",
    "    multiple_lines BOOLEAN,\n",
    "    internet_service VARCHAR(50),\n",
    "    online_security BOOLEAN,\n",
    "    online_backup BOOLEAN,\n",
    "    device_protection BOOLEAN,\n",
    "    tech_support BOOLEAN,\n",
    "    streaming_tv BOOLEAN,\n",
    "    streaming_movies BOOLEAN,\n",
    "            \n",
    "    FOREIGN KEY (customer_id) REFERENCES Customers(customer_id)\n",
    ");\n",
    "\n",
    "    CREATE TABLE Billing (\n",
    "    customer_id VARCHAR(50),\n",
    "    contract VARCHAR(50),\n",
    "    paperless_billing BOOLEAN,\n",
    "    payment_method VARCHAR(50),\n",
    "    monthly_charges DECIMAL,\n",
    "    total_charges DECIMAL,\n",
    "            \n",
    "    FOREIGN KEY (customer_id) REFERENCES Customers(customer_id)\n",
    ");\n",
    "\n",
    "            \n",
    "    CREATE TABLE Churn_Predictions (\n",
    "    customer_id VARCHAR(50),\n",
    "    churn_prediction BOOLEAN,\n",
    "    \n",
    "    FOREIGN KEY (customer_id) REFERENCES Customers(customer_id)\n",
    ");        \n",
    "\n",
    "\n",
    "\"\"\")"
   ]
  },
  {
   "cell_type": "code",
   "execution_count": 25,
   "metadata": {},
   "outputs": [],
   "source": [
    "conn.commit()"
   ]
  },
  {
   "cell_type": "markdown",
   "metadata": {},
   "source": [
    "![table_png.png](notebook_imgs/table_png.png)"
   ]
  },
  {
   "cell_type": "markdown",
   "metadata": {},
   "source": [
    "### Services Table\n",
    "![table_png.png](notebook_imgs/services_tbl.png)\n",
    "### Customers Table\n",
    "![table_png.png](notebook_imgs/customers_tbl.png)\n",
    "### Churn Predictions Table\n",
    "![table_png.png](notebook_imgs/churn_tbl.png)\n",
    "### Billings Table\n",
    "![table_png.png](notebook_imgs/billing_tbl.png)"
   ]
  },
  {
   "cell_type": "markdown",
   "metadata": {},
   "source": [
    "## 2. Data Ingestion"
   ]
  },
  {
   "cell_type": "code",
   "execution_count": 27,
   "metadata": {},
   "outputs": [],
   "source": [
    "import pandas as pd\n",
    "\n",
    "raw_data = pd.read_csv('Raw_Data.csv')\n",
    "telco_customer_churn = pd.read_csv('TelcoCustomerChurn.csv')\n",
    "prediction_results = pd.read_csv('Prediction_Results.csv')"
   ]
  },
  {
   "cell_type": "code",
   "execution_count": 28,
   "metadata": {},
   "outputs": [],
   "source": [
    "def insert_data(table_name, dataframe):\n",
    "    for i, row in dataframe.iterrows():\n",
    "        placeholders = ', '.join(['%s'] * len(row))\n",
    "        columns = ', '.join(dataframe.columns)\n",
    "        sql = f\"INSERT INTO {table_name} ({columns}) VALUES ({placeholders})\"\n",
    "        cur.execute(sql, tuple(row))\n",
    "    conn.commit()"
   ]
  },
  {
   "cell_type": "markdown",
   "metadata": {},
   "source": [
    "### Inserting into Customers Table"
   ]
  },
  {
   "cell_type": "code",
   "execution_count": 32,
   "metadata": {},
   "outputs": [
    {
     "name": "stderr",
     "output_type": "stream",
     "text": [
      "C:\\Users\\Asus\\AppData\\Local\\Temp\\ipykernel_6484\\3527777041.py:3: SettingWithCopyWarning: \n",
      "A value is trying to be set on a copy of a slice from a DataFrame.\n",
      "Try using .loc[row_indexer,col_indexer] = value instead\n",
      "\n",
      "See the caveats in the documentation: https://pandas.pydata.org/pandas-docs/stable/user_guide/indexing.html#returning-a-view-versus-a-copy\n",
      "  customers_data['senior_citizen'] = customers_data['senior_citizen'].astype(bool)  #Convert to boolean\n",
      "C:\\Users\\Asus\\AppData\\Local\\Temp\\ipykernel_6484\\3527777041.py:4: SettingWithCopyWarning: \n",
      "A value is trying to be set on a copy of a slice from a DataFrame.\n",
      "Try using .loc[row_indexer,col_indexer] = value instead\n",
      "\n",
      "See the caveats in the documentation: https://pandas.pydata.org/pandas-docs/stable/user_guide/indexing.html#returning-a-view-versus-a-copy\n",
      "  customers_data['partner'] = customers_data['partner'].map({'Yes': True, 'No': False})  #Convert to boolean\n",
      "C:\\Users\\Asus\\AppData\\Local\\Temp\\ipykernel_6484\\3527777041.py:5: SettingWithCopyWarning: \n",
      "A value is trying to be set on a copy of a slice from a DataFrame.\n",
      "Try using .loc[row_indexer,col_indexer] = value instead\n",
      "\n",
      "See the caveats in the documentation: https://pandas.pydata.org/pandas-docs/stable/user_guide/indexing.html#returning-a-view-versus-a-copy\n",
      "  customers_data['dependents'] = customers_data['dependents'].map({'Yes': True, 'No': False})  #Convert to boolean\n"
     ]
    }
   ],
   "source": [
    "customers_data = telco_customer_churn[['customerID', 'gender', 'SeniorCitizen', 'Partner', 'Dependents']]\n",
    "customers_data.columns = ['customer_id', 'gender', 'senior_citizen', 'partner', 'dependents']\n",
    "customers_data['senior_citizen'] = customers_data['senior_citizen'].astype(bool)  #Convert to boolean\n",
    "customers_data['partner'] = customers_data['partner'].map({'Yes': True, 'No': False})  #Convert to boolean\n",
    "customers_data['dependents'] = customers_data['dependents'].map({'Yes': True, 'No': False})  #Convert to boolean\n",
    "insert_data('customers', customers_data)"
   ]
  },
  {
   "cell_type": "markdown",
   "metadata": {},
   "source": [
    "![table_png.png](notebook_imgs/customers_filled.png)"
   ]
  },
  {
   "cell_type": "markdown",
   "metadata": {},
   "source": [
    "### Inserting into Services Table"
   ]
  },
  {
   "cell_type": "code",
   "execution_count": 33,
   "metadata": {},
   "outputs": [
    {
     "name": "stderr",
     "output_type": "stream",
     "text": [
      "C:\\Users\\Asus\\AppData\\Local\\Temp\\ipykernel_6484\\1937519431.py:3: FutureWarning: DataFrame.applymap has been deprecated. Use DataFrame.map instead.\n",
      "  services_data = services_data.applymap(lambda x: True if x == 'Yes' else False if x == 'No' else x)  # Convert 'Yes'/'No' to boolean\n"
     ]
    }
   ],
   "source": [
    "services_data = telco_customer_churn[['customerID', 'PhoneService', 'MultipleLines', 'InternetService', 'OnlineSecurity', 'OnlineBackup', 'DeviceProtection', 'TechSupport', 'StreamingTV', 'StreamingMovies']]\n",
    "services_data.columns = ['customer_id', 'phone_service', 'multiple_lines', 'internet_service', 'online_security', 'online_backup', 'device_protection', 'tech_support', 'streaming_tv', 'streaming_movies']\n",
    "services_data = services_data.applymap(lambda x: True if x == 'Yes' else False if x == 'No' else x)  #Convert 'Yes'/'No' to boolean\n",
    "insert_data('services', services_data)"
   ]
  },
  {
   "cell_type": "markdown",
   "metadata": {},
   "source": [
    "![table_png.png](notebook_imgs/services_filled.png)"
   ]
  },
  {
   "cell_type": "markdown",
   "metadata": {},
   "source": [
    "### Inserting into Billings Table"
   ]
  },
  {
   "cell_type": "code",
   "execution_count": 34,
   "metadata": {},
   "outputs": [
    {
     "name": "stderr",
     "output_type": "stream",
     "text": [
      "C:\\Users\\Asus\\AppData\\Local\\Temp\\ipykernel_6484\\1764522316.py:3: SettingWithCopyWarning: \n",
      "A value is trying to be set on a copy of a slice from a DataFrame.\n",
      "Try using .loc[row_indexer,col_indexer] = value instead\n",
      "\n",
      "See the caveats in the documentation: https://pandas.pydata.org/pandas-docs/stable/user_guide/indexing.html#returning-a-view-versus-a-copy\n",
      "  billing_data['paperless_billing'] = billing_data['paperless_billing'].map({'Yes': True, 'No': False})  # Convert to boolean\n"
     ]
    }
   ],
   "source": [
    "billing_data = telco_customer_churn[['customerID', 'Contract', 'PaperlessBilling', 'PaymentMethod', 'MonthlyCharges', 'TotalCharges']]\n",
    "billing_data.columns = ['customer_id', 'contract', 'paperless_billing', 'payment_method', 'monthly_charges', 'total_charges']\n",
    "billing_data['paperless_billing'] = billing_data['paperless_billing'].map({'Yes': True, 'No': False})  # Convert to boolean\n",
    "insert_data('billing', billing_data)"
   ]
  },
  {
   "cell_type": "markdown",
   "metadata": {},
   "source": [
    "![table.png](notebook_imgs/billing_filled.png)"
   ]
  },
  {
   "cell_type": "markdown",
   "metadata": {},
   "source": [
    "### Inserting into Churn Predictions Table"
   ]
  },
  {
   "cell_type": "code",
   "execution_count": 45,
   "metadata": {},
   "outputs": [],
   "source": [
    "# Prepare and insert data into Churn_Predictions table\n",
    "prediction_data = prediction_results[['customerID', 'Churn']]\n",
    "prediction_data.columns = ['customer_id', 'churn_prediction']\n",
    "\n",
    "insert_data('churn_predictions', prediction_data)\n"
   ]
  },
  {
   "cell_type": "markdown",
   "metadata": {},
   "source": [
    "![](notebook_imgs/churn_filled.png)"
   ]
  },
  {
   "cell_type": "markdown",
   "metadata": {},
   "source": [
    "## 3. Querying the Data"
   ]
  },
  {
   "cell_type": "code",
   "execution_count": 42,
   "metadata": {},
   "outputs": [],
   "source": [
    "cur.execute(\"ROLLBACK;\")\n"
   ]
  },
  {
   "cell_type": "code",
   "execution_count": 10,
   "metadata": {},
   "outputs": [],
   "source": [
    "conn.commit()"
   ]
  },
  {
   "cell_type": "code",
   "execution_count": null,
   "metadata": {},
   "outputs": [],
   "source": [
    "cur.close()\n",
    "conn.close()"
   ]
  }
 ],
 "metadata": {
  "kernelspec": {
   "display_name": "Python 3",
   "language": "python",
   "name": "python3"
  },
  "language_info": {
   "codemirror_mode": {
    "name": "ipython",
    "version": 3
   },
   "file_extension": ".py",
   "mimetype": "text/x-python",
   "name": "python",
   "nbconvert_exporter": "python",
   "pygments_lexer": "ipython3",
   "version": "3.9.0"
  }
 },
 "nbformat": 4,
 "nbformat_minor": 2
}
